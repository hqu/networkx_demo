{
  "nbformat": 4,
  "nbformat_minor": 0,
  "metadata": {
    "kernelspec": {
      "display_name": "Python 3 (ipykernel)",
      "language": "python",
      "name": "python3"
    },
    "language_info": {
      "codemirror_mode": {
        "name": "ipython",
        "version": 3
      },
      "file_extension": ".py",
      "mimetype": "text/x-python",
      "name": "python",
      "nbconvert_exporter": "python",
      "pygments_lexer": "ipython3",
      "version": "3.8.8"
    },
    "colab": {
      "name": "Epidemic Simulation Visualization.ipynb",
      "provenance": [],
      "collapsed_sections": [],
      "include_colab_link": true
    }
  },
  "cells": [
    {
      "cell_type": "markdown",
      "metadata": {
        "id": "view-in-github",
        "colab_type": "text"
      },
      "source": [
        "<a href=\"https://colab.research.google.com/github/hqu/networkx_demo/blob/main/Epidemic_Simulation_Visualization.ipynb\" target=\"_parent\"><img src=\"https://colab.research.google.com/assets/colab-badge.svg\" alt=\"Open In Colab\"/></a>"
      ]
    },
    {
      "cell_type": "code",
      "metadata": {
        "id": "3KkYhJ05h2lG"
      },
      "source": [
        "import networkx as nx\n",
        "import numpy as np\n",
        "from matplotlib import pyplot as plt\n",
        "import pandas as pd"
      ],
      "execution_count": 1,
      "outputs": []
    },
    {
      "cell_type": "code",
      "metadata": {
        "id": "m0fCg32mNWUx"
      },
      "source": [
        "G = nx.Graph()\n",
        "G.clear()"
      ],
      "execution_count": 2,
      "outputs": []
    },
    {
      "cell_type": "code",
      "metadata": {
        "id": "0dU_rJs9h2lJ"
      },
      "source": [
        "def get_infected_nodes():\n",
        "    infected_nodes = [x for x,y in G.nodes(data=True) if y['state']==1]\n",
        "    return infected_nodes\n",
        "def get_recovered_nodes():\n",
        "    recovered_nodes = [x for x,y in G.nodes(data=True) if y['state']==2]\n",
        "    return recovered_nodes\n",
        "def get_susceptible_nodes():\n",
        "    susceptible_nodes = [x for x,y in G.nodes(data=True) if y['state']==0]\n",
        "    return susceptible_nodes"
      ],
      "execution_count": 3,
      "outputs": []
    },
    {
      "cell_type": "code",
      "metadata": {
        "id": "vT-Ak1Pvh2lJ"
      },
      "source": [
        "def print_stats():\n",
        "    r0 = round(((alpha*avg_deg)/mu), 2)\n",
        "    print(\"R0: \", r0)\n",
        "    print(\"Peak cases: \", max(epi_curve_data))\n",
        "    print(\"Peak time period: \", epi_curve_data.index(max(epi_curve_data)))\n",
        "    print(\"Total time periods: \", num_periods)        \n",
        "    print(\"Average contacts: \", round(avg_deg, 0))\n",
        "    print(\"Healthy left: \", len(get_susceptible_nodes()))"
      ],
      "execution_count": 26,
      "outputs": []
    },
    {
      "cell_type": "code",
      "metadata": {
        "scrolled": true,
        "id": "G3cQyjpCh2lK"
      },
      "source": [
        "def spread_virus():\n",
        "    infected_nodes_list = get_infected_nodes()\n",
        "    t = 0\n",
        "    infected_num_list = []\n",
        "    recovered_num_list = []\n",
        "    susceptible_num_list = []\n",
        "    while(len(infected_nodes_list)>0):\n",
        "        t=t+1\n",
        "        infected_nodes_list = get_infected_nodes()\n",
        "        num_infected = len(infected_nodes_list)\n",
        "        recovered_nodes_list = get_recovered_nodes()\n",
        "        num_recovered = len(recovered_nodes_list)\n",
        "        susceptible_nodes_list = get_susceptible_nodes()\n",
        "        num_susceptible = len(susceptible_nodes_list)        \n",
        "        infected_num_list.append(num_infected)\n",
        "        recovered_num_list.append(num_recovered)\n",
        "        susceptible_num_list.append(num_susceptible)\n",
        "        for i in infected_nodes_list:\n",
        "            neibs = list(G.neighbors(i))\n",
        "            #print(\"node: \"+str(i))\n",
        "            for j in neibs:\n",
        "                #print(j)\n",
        "                if (G.nodes[j]['state']==0):\n",
        "                    #print(j)\n",
        "                    if (np.random.binomial(1,alpha) == 1):\n",
        "                        #print(\"neib: \"+str(j))\n",
        "                        G.nodes[j]['state']=1\n",
        "                        #print(\"state: \"+ str(G.nodes[j]['state']))\n",
        "            if (np.random.binomial(1,mu) == 1):\n",
        "                G.nodes[i]['state']=2\n",
        "        infected_nodes_list = get_infected_nodes()\n",
        "        #print(infected_nodes_list)\n",
        "    return t, infected_num_list, recovered_num_list, susceptible_num_list"
      ],
      "execution_count": 5,
      "outputs": []
    },
    {
      "cell_type": "code",
      "metadata": {
        "id": "yDo8fBOoh2lL"
      },
      "source": [
        "def init_conditions():\n",
        "    state = 0\n",
        "    nx.set_node_attributes(G, state, \"state\")\n",
        "    G.nodes[6]['state'] = 1\n",
        "    G.nodes[3]['state'] = 1\n",
        "    G.nodes[2]['state'] = 1"
      ],
      "execution_count": 6,
      "outputs": []
    },
    {
      "cell_type": "code",
      "metadata": {
        "id": "rGphr5MRfOfH"
      },
      "source": [
        "def generate_epidemic_graph():\n",
        "  fig = plt.figure(figsize=(16, 9))\n",
        "  ax = plt.axes()\n",
        "  #ax.set_yscale('log')\n",
        "  plt.stackplot(x,epi_curve_data, sup_curve_data, rec_curve_data, labels=['Sick','Healthy','Recovered'], colors=['BB641D','AAC6CA','BC8AC0'])\n",
        "  ax.set(xlabel='Time', ylabel='Number of Individuals')\n",
        "  if(Super_spreaders==False):\n",
        "    fig.suptitle('Infectiousness = '+str(infectiousness) + ' Recovery Speed = '+str(recovery_speed) + ' Connectivity = '+str(connectivity) , fontsize=20)\n",
        "  else:\n",
        "    fig.suptitle('Infectiousness = '+str(infectiousness) + ' Recovery Speed = '+str(recovery_speed) + ' Super-Spreader Connectivity = '+str(super_spread_connectivity), fontsize=20)\n",
        "  plt.legend()"
      ],
      "execution_count": 275,
      "outputs": []
    },
    {
      "cell_type": "code",
      "metadata": {
        "id": "x40DoBBCh2lM"
      },
      "source": [
        "G = nx.Graph()\n",
        "G.clear()\n",
        "n =10000\n",
        "p =.001\n",
        "G = nx.erdos_renyi_graph(n, p)"
      ],
      "execution_count": 249,
      "outputs": []
    },
    {
      "cell_type": "code",
      "metadata": {
        "id": "v5xRqokAh2lM"
      },
      "source": [
        "mu = .9\n",
        "alpha = .2"
      ],
      "execution_count": 250,
      "outputs": []
    },
    {
      "cell_type": "code",
      "metadata": {
        "id": "gkqSeEkCdwB_"
      },
      "source": [
        "# Enter values for the follow parameters"
      ],
      "execution_count": 281,
      "outputs": []
    },
    {
      "cell_type": "markdown",
      "metadata": {
        "id": "OVknnXoNh98i"
      },
      "source": [
        "# **Enter values for the follow parameters in the form below:**\n",
        "\n",
        "---\n",
        "\n"
      ]
    },
    {
      "cell_type": "code",
      "metadata": {
        "id": "jMUR_26lh2lR",
        "cellView": "form"
      },
      "source": [
        "infectiousness = 0.2 #@param {type:\"slider\", min:0.1, max:0.6, step:0.1}\n"
      ],
      "execution_count": 251,
      "outputs": []
    },
    {
      "cell_type": "code",
      "metadata": {
        "id": "H41EB6nS_p1u",
        "cellView": "form"
      },
      "source": [
        "recovery_speed = 0.9 #@param {type:\"slider\", min:0.1, max:0.9, step:0.1}"
      ],
      "execution_count": 252,
      "outputs": []
    },
    {
      "cell_type": "code",
      "metadata": {
        "cellView": "form",
        "id": "TEOKP2Sre5t8"
      },
      "source": [
        "Super_spreaders = True #@param [\"False\", \"True\"] {type:\"raw\"}"
      ],
      "execution_count": 253,
      "outputs": []
    },
    {
      "cell_type": "code",
      "metadata": {
        "cellView": "form",
        "id": "szITozifec7d"
      },
      "source": [
        "connectivity = 0.001 #@param {type:\"slider\", min:0.001, max:0.009, step:0.001}"
      ],
      "execution_count": 254,
      "outputs": []
    },
    {
      "cell_type": "code",
      "metadata": {
        "cellView": "form",
        "id": "9Yl9vCC7dCpp"
      },
      "source": [
        "super_spread_connectivity = 5 #@param {type:\"slider\", min:1, max:9, step:1}"
      ],
      "execution_count": 269,
      "outputs": []
    },
    {
      "cell_type": "code",
      "metadata": {
        "id": "sQ3Cz5glh9qi",
        "colab": {
          "base_uri": "https://localhost:8080/",
          "height": 616
        },
        "outputId": "18bd8379-9fa9-4836-fc47-fa91d4e2ddce"
      },
      "source": [
        "  alpha = infectiousness\n",
        "  mu = recovery_speed\n",
        "  if(Super_spreaders==True):\n",
        "    m = super_spread_connectivity\n",
        "    G = nx.barabasi_albert_graph(n, m)\n",
        "  else:\n",
        "    if(p!=connectivity):\n",
        "      G = nx.erdos_renyi_graph(n, connectivity)\n",
        "      p = connectivity\n",
        "  init_conditions()\n",
        "  degrees = [val for (node, val) in G.degree()]\n",
        "  avg_deg = G.number_of_edges()/n\n",
        "  num_periods, epi_curve_data, rec_curve_data, sup_curve_data = spread_virus()\n",
        "  x = list(range(0, len(epi_curve_data)))\n",
        "generate_epidemic_graph()"
      ],
      "execution_count": 276,
      "outputs": [
        {
          "output_type": "display_data",
          "data": {
            "image/png": "[encoded data removed]",
            "text/plain": [
              "<Figure size 1152x648 with 1 Axes>"
            ]
          },
          "metadata": {
            "needs_background": "light"
          }
        }
      ]
    },
    {
      "cell_type": "code",
      "metadata": {
        "colab": {
          "base_uri": "https://localhost:8080/"
        },
        "id": "GE4I539SNwnE",
        "outputId": "3137e2a1-e13e-4801-ba16-e5b30f040797"
      },
      "source": [
        "print_stats()"
      ],
      "execution_count": 277,
      "outputs": [
        {
          "output_type": "stream",
          "name": "stdout",
          "text": [
            "R0:  1.11\n",
            "Peak cases:  2287\n",
            "Peak time period:  5\n",
            "Total time periods:  15\n",
            "Average contacts:  5.0\n",
            "Healthy left:  2320\n"
          ]
        }
      ]
    },
    {
      "cell_type": "code",
      "metadata": {
        "colab": {
          "base_uri": "https://localhost:8080/"
        },
        "id": "kYiZ1mC27saA",
        "outputId": "74f3490e-d4bd-4160-8f15-9f4417f9076c"
      },
      "source": [
        "epi_curve_data"
      ],
      "execution_count": 278,
      "outputs": [
        {
          "output_type": "execute_result",
          "data": {
            "text/plain": [
              "[3, 113, 350, 1219, 2210, 2287, 1412, 575, 220, 74, 39, 11, 4, 2, 1]"
            ]
          },
          "metadata": {},
          "execution_count": 278
        }
      ]
    },
    {
      "cell_type": "code",
      "metadata": {
        "id": "w7OrwN4wAXwX",
        "colab": {
          "base_uri": "https://localhost:8080/"
        },
        "outputId": "9d6cf1b4-d673-4df7-b3b2-85f0051cd46d"
      },
      "source": [
        "rec_curve_data"
      ],
      "execution_count": 279,
      "outputs": [
        {
          "output_type": "execute_result",
          "data": {
            "text/plain": [
              "[0,\n",
              " 3,\n",
              " 102,\n",
              " 416,\n",
              " 1501,\n",
              " 3497,\n",
              " 5566,\n",
              " 6848,\n",
              " 7363,\n",
              " 7567,\n",
              " 7631,\n",
              " 7665,\n",
              " 7674,\n",
              " 7678,\n",
              " 7679]"
            ]
          },
          "metadata": {},
          "execution_count": 279
        }
      ]
    },
    {
      "cell_type": "code",
      "metadata": {
        "colab": {
          "base_uri": "https://localhost:8080/"
        },
        "id": "YCJwu-lMNyLn",
        "outputId": "f7485708-9ebd-43ff-d5f3-dabe34d411e3"
      },
      "source": [
        "sup_curve_data"
      ],
      "execution_count": 280,
      "outputs": [
        {
          "output_type": "execute_result",
          "data": {
            "text/plain": [
              "[9997,\n",
              " 9884,\n",
              " 9548,\n",
              " 8365,\n",
              " 6289,\n",
              " 4216,\n",
              " 3022,\n",
              " 2577,\n",
              " 2417,\n",
              " 2359,\n",
              " 2330,\n",
              " 2324,\n",
              " 2322,\n",
              " 2320,\n",
              " 2320]"
            ]
          },
          "metadata": {},
          "execution_count": 280
        }
      ]
    },
    {
      "cell_type": "code",
      "metadata": {
        "id": "CxxOJi5NN1eR"
      },
      "source": [
        ""
      ],
      "execution_count": 280,
      "outputs": []
    }
  ]
}