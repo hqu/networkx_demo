{
  "nbformat": 4,
  "nbformat_minor": 0,
  "metadata": {
    "kernelspec": {
      "display_name": "Python 3 (ipykernel)",
      "language": "python",
      "name": "python3"
    },
    "language_info": {
      "codemirror_mode": {
        "name": "ipython",
        "version": 3
      },
      "file_extension": ".py",
      "mimetype": "text/x-python",
      "name": "python",
      "nbconvert_exporter": "python",
      "pygments_lexer": "ipython3",
      "version": "3.8.8"
    },
    "colab": {
      "name": "Epidemic Simulation Visualization.ipynb",
      "provenance": [],
      "collapsed_sections": [],
      "include_colab_link": true
    }
  },
  "cells": [
    {
      "cell_type": "markdown",
      "metadata": {
        "id": "view-in-github",
        "colab_type": "text"
      },
      "source": [
        "<a href=\"https://colab.research.google.com/github/hqu/networkx_demo/blob/main/Epidemic_Simulation_Visualization.ipynb\" target=\"_parent\"><img src=\"https://colab.research.google.com/assets/colab-badge.svg\" alt=\"Open In Colab\"/></a>"
      ]
    },
    {
      "cell_type": "code",
      "metadata": {
        "id": "3KkYhJ05h2lG"
      },
      "source": [
        "import networkx as nx\n",
        "import numpy as np\n",
        "from matplotlib import pyplot as plt\n",
        "import pandas as pd"
      ],
      "execution_count": 1,
      "outputs": []
    },
    {
      "cell_type": "code",
      "metadata": {
        "id": "m0fCg32mNWUx"
      },
      "source": [
        "G = nx.Graph()\n",
        "G.clear()"
      ],
      "execution_count": 2,
      "outputs": []
    },
    {
      "cell_type": "code",
      "metadata": {
        "id": "0dU_rJs9h2lJ"
      },
      "source": [
        "def get_infected_nodes():\n",
        "    infected_nodes = [x for x,y in G.nodes(data=True) if y['state']==1]\n",
        "    return infected_nodes\n",
        "def get_recovered_nodes():\n",
        "    recovered_nodes = [x for x,y in G.nodes(data=True) if y['state']==2]\n",
        "    return recovered_nodes\n",
        "def get_susceptible_nodes():\n",
        "    susceptible_nodes = [x for x,y in G.nodes(data=True) if y['state']==0]\n",
        "    return susceptible_nodes"
      ],
      "execution_count": 3,
      "outputs": []
    },
    {
      "cell_type": "code",
      "metadata": {
        "id": "vT-Ak1Pvh2lJ"
      },
      "source": [
        "def print_stats():\n",
        "    print(\"time periods: \", num_periods)\n",
        "    print(\"peak cases: \", max(epi_curve_data))\n",
        "    print(\"peak time period: \", epi_curve_data.index(max(epi_curve_data)))\n",
        "    r0 = round(((alpha*avg_deg)/mu), 2)\n",
        "    print(\"R0: \", r0)\n",
        "    print(\"average degree: \", round(avg_deg, 0))\n",
        "    print(\"Healthy left: \", len(get_susceptible_nodes()))"
      ],
      "execution_count": 21,
      "outputs": []
    },
    {
      "cell_type": "code",
      "metadata": {
        "scrolled": true,
        "id": "G3cQyjpCh2lK"
      },
      "source": [
        "def spread_virus():\n",
        "    infected_nodes_list = get_infected_nodes()\n",
        "    t = 0\n",
        "    infected_num_list = []\n",
        "    recovered_num_list = []\n",
        "    susceptible_num_list = []\n",
        "    while(len(infected_nodes_list)>0):\n",
        "        t=t+1\n",
        "        infected_nodes_list = get_infected_nodes()\n",
        "        num_infected = len(infected_nodes_list)\n",
        "        recovered_nodes_list = get_recovered_nodes()\n",
        "        num_recovered = len(recovered_nodes_list)\n",
        "        susceptible_nodes_list = get_susceptible_nodes()\n",
        "        num_susceptible = len(susceptible_nodes_list)        \n",
        "        infected_num_list.append(num_infected)\n",
        "        recovered_num_list.append(num_recovered)\n",
        "        susceptible_num_list.append(num_susceptible)\n",
        "        for i in infected_nodes_list:\n",
        "            neibs = list(G.neighbors(i))\n",
        "            #print(\"node: \"+str(i))\n",
        "            for j in neibs:\n",
        "                #print(j)\n",
        "                if (G.nodes[j]['state']==0):\n",
        "                    #print(j)\n",
        "                    if (np.random.binomial(1,alpha) == 1):\n",
        "                        #print(\"neib: \"+str(j))\n",
        "                        G.nodes[j]['state']=1\n",
        "                        #print(\"state: \"+ str(G.nodes[j]['state']))\n",
        "            if (np.random.binomial(1,mu) == 1):\n",
        "                G.nodes[i]['state']=2\n",
        "        infected_nodes_list = get_infected_nodes()\n",
        "        #print(infected_nodes_list)\n",
        "    return t, infected_num_list, recovered_num_list, susceptible_num_list"
      ],
      "execution_count": 5,
      "outputs": []
    },
    {
      "cell_type": "code",
      "metadata": {
        "id": "yDo8fBOoh2lL"
      },
      "source": [
        "def init_conditions():\n",
        "    state = 0\n",
        "    nx.set_node_attributes(G, state, \"state\")\n",
        "    G.nodes[6]['state'] = 1\n",
        "    G.nodes[3]['state'] = 1\n",
        "    G.nodes[2]['state'] = 1"
      ],
      "execution_count": 6,
      "outputs": []
    },
    {
      "cell_type": "code",
      "metadata": {
        "id": "x40DoBBCh2lM"
      },
      "source": [
        "G = nx.Graph()\n",
        "G.clear()\n",
        "n =10000\n",
        "p =.001\n",
        "G = nx.erdos_renyi_graph(n, p)"
      ],
      "execution_count": 7,
      "outputs": []
    },
    {
      "cell_type": "code",
      "metadata": {
        "id": "v5xRqokAh2lM"
      },
      "source": [
        "mu = .9\n",
        "alpha = .2"
      ],
      "execution_count": 8,
      "outputs": []
    },
    {
      "cell_type": "code",
      "metadata": {
        "id": "jMUR_26lh2lR"
      },
      "source": [
        "infectiousness = 0.2 #@param {type:\"slider\", min:0.1, max:0.6, step:0.1}\n"
      ],
      "execution_count": 48,
      "outputs": []
    },
    {
      "cell_type": "code",
      "metadata": {
        "id": "H41EB6nS_p1u"
      },
      "source": [
        "recovery_speed = 0.9 #@param {type:\"slider\", min:0.1, max:0.9, step:0.1}"
      ],
      "execution_count": 49,
      "outputs": []
    },
    {
      "cell_type": "code",
      "metadata": {
        "id": "jS6Bi2rsFZE2"
      },
      "source": [
        "connectivity = 0.001 #@param {type:\"slider\", min:0.001, max:0.009, step:0.001}"
      ],
      "execution_count": 50,
      "outputs": []
    },
    {
      "cell_type": "code",
      "metadata": {
        "id": "sQ3Cz5glh9qi",
        "colab": {
          "base_uri": "https://localhost:8080/",
          "height": 633
        },
        "outputId": "64077e69-818e-4cfa-be41-d602b0220e25"
      },
      "source": [
        "alpha = infectiousness\n",
        "mu = recovery_speed\n",
        "if(p!=connectivity):\n",
        "  G = nx.erdos_renyi_graph(n, connectivity)\n",
        "  p = connectivity\n",
        "init_conditions()\n",
        "degrees = [val for (node, val) in G.degree()]\n",
        "avg_deg = G.number_of_edges()/n\n",
        "num_periods, epi_curve_data, rec_curve_data, sup_curve_data = spread_virus()\n",
        "x = list(range(0, len(epi_curve_data)))\n",
        "fig = plt.figure(figsize=(16, 9))\n",
        "ax = plt.axes()\n",
        "#ax.set_yscale('log')\n",
        "plt.stackplot(x,epi_curve_data, sup_curve_data, rec_curve_data, labels=['Sick','Healthy','Recovered'], colors=['BB641D','AAC6CA','BC8AC0'])\n",
        "ax.set(xlabel='Time', ylabel='Number of Individuals')\n",
        "fig.suptitle('Infectiousness = '+str(infectiousness) + ' Recovery Speed = '+str(recovery_speed) + ' Connectivity = '+str(connectivity) , fontsize=20)\n",
        "plt.legend()"
      ],
      "execution_count": 51,
      "outputs": [
        {
          "output_type": "execute_result",
          "data": {
            "text/plain": [
              "<matplotlib.legend.Legend at 0x7fdc7b5ebfd0>"
            ]
          },
          "metadata": {},
          "execution_count": 51
        },
        {
          "output_type": "display_data",
          "data": {
            "image/png": "[encoded data removed]",
            "text/plain": [
              "<Figure size 1152x648 with 1 Axes>"
            ]
          },
          "metadata": {
            "needs_background": "light"
          }
        }
      ]
    },
    {
      "cell_type": "code",
      "metadata": {
        "colab": {
          "base_uri": "https://localhost:8080/"
        },
        "id": "GE4I539SNwnE",
        "outputId": "c8a4b30f-e188-42bf-a072-c6c6eeb43964"
      },
      "source": [
        "print_stats()"
      ],
      "execution_count": 52,
      "outputs": [
        {
          "output_type": "stream",
          "name": "stdout",
          "text": [
            "time periods:  21\n",
            "peak cases:  1934\n",
            "peak time period:  10\n",
            "R0:  1.11\n",
            "average degree:  5.0\n",
            "Healthy left:  1596\n"
          ]
        }
      ]
    },
    {
      "cell_type": "code",
      "metadata": {
        "colab": {
          "base_uri": "https://localhost:8080/"
        },
        "id": "kYiZ1mC27saA",
        "outputId": "6df5fd61-7ae1-427d-a6c0-d04ae5bc84b4"
      },
      "source": [
        "epi_curve_data"
      ],
      "execution_count": 53,
      "outputs": [
        {
          "output_type": "execute_result",
          "data": {
            "text/plain": [
              "[3,\n",
              " 11,\n",
              " 20,\n",
              " 42,\n",
              " 86,\n",
              " 173,\n",
              " 323,\n",
              " 631,\n",
              " 1083,\n",
              " 1601,\n",
              " 1934,\n",
              " 1582,\n",
              " 967,\n",
              " 487,\n",
              " 190,\n",
              " 103,\n",
              " 52,\n",
              " 20,\n",
              " 7,\n",
              " 5,\n",
              " 5]"
            ]
          },
          "metadata": {},
          "execution_count": 53
        }
      ]
    },
    {
      "cell_type": "code",
      "metadata": {
        "id": "w7OrwN4wAXwX",
        "colab": {
          "base_uri": "https://localhost:8080/"
        },
        "outputId": "d4477291-c88e-46b9-8417-878db99a3d60"
      },
      "source": [
        "rec_curve_data"
      ],
      "execution_count": 54,
      "outputs": [
        {
          "output_type": "execute_result",
          "data": {
            "text/plain": [
              "[0,\n",
              " 2,\n",
              " 10,\n",
              " 28,\n",
              " 66,\n",
              " 141,\n",
              " 295,\n",
              " 577,\n",
              " 1133,\n",
              " 2123,\n",
              " 3566,\n",
              " 5317,\n",
              " 6744,\n",
              " 7614,\n",
              " 8064,\n",
              " 8236,\n",
              " 8327,\n",
              " 8371,\n",
              " 8388,\n",
              " 8395,\n",
              " 8399]"
            ]
          },
          "metadata": {},
          "execution_count": 54
        }
      ]
    },
    {
      "cell_type": "code",
      "metadata": {
        "colab": {
          "base_uri": "https://localhost:8080/"
        },
        "id": "YCJwu-lMNyLn",
        "outputId": "a3125ffc-88c6-48d2-9eb7-0caf41bdbaf8"
      },
      "source": [
        "sup_curve_data"
      ],
      "execution_count": 55,
      "outputs": [
        {
          "output_type": "execute_result",
          "data": {
            "text/plain": [
              "[9997,\n",
              " 9987,\n",
              " 9970,\n",
              " 9930,\n",
              " 9848,\n",
              " 9686,\n",
              " 9382,\n",
              " 8792,\n",
              " 7784,\n",
              " 6276,\n",
              " 4500,\n",
              " 3101,\n",
              " 2289,\n",
              " 1899,\n",
              " 1746,\n",
              " 1661,\n",
              " 1621,\n",
              " 1609,\n",
              " 1605,\n",
              " 1600,\n",
              " 1596]"
            ]
          },
          "metadata": {},
          "execution_count": 55
        }
      ]
    },
    {
      "cell_type": "code",
      "metadata": {
        "id": "CxxOJi5NN1eR"
      },
      "source": [
        ""
      ],
      "execution_count": null,
      "outputs": []
    }
  ]
}