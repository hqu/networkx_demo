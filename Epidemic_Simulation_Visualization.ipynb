{
  "nbformat": 4,
  "nbformat_minor": 0,
  "metadata": {
    "kernelspec": {
      "display_name": "Python 3 (ipykernel)",
      "language": "python",
      "name": "python3"
    },
    "language_info": {
      "codemirror_mode": {
        "name": "ipython",
        "version": 3
      },
      "file_extension": ".py",
      "mimetype": "text/x-python",
      "name": "python",
      "nbconvert_exporter": "python",
      "pygments_lexer": "ipython3",
      "version": "3.8.8"
    },
    "colab": {
      "name": "Epidemic Simulation Visualization.ipynb",
      "provenance": [],
      "collapsed_sections": [],
      "include_colab_link": true
    }
  },
  "cells": [
    {
      "cell_type": "markdown",
      "metadata": {
        "id": "view-in-github",
        "colab_type": "text"
      },
      "source": [
        "<a href=\"https://colab.research.google.com/github/hqu/networkx_demo/blob/main/Epidemic_Simulation_Visualization.ipynb\" target=\"_parent\"><img src=\"https://colab.research.google.com/assets/colab-badge.svg\" alt=\"Open In Colab\"/></a>"
      ]
    },
    {
      "cell_type": "code",
      "metadata": {
        "id": "3KkYhJ05h2lG"
      },
      "source": [
        "import networkx as nx\n",
        "import numpy as np\n",
        "from matplotlib import pyplot as plt\n",
        "import pandas as pd"
      ],
      "execution_count": 1,
      "outputs": []
    },
    {
      "cell_type": "code",
      "metadata": {
        "id": "m0fCg32mNWUx"
      },
      "source": [
        "G = nx.Graph()\n",
        "G.clear()"
      ],
      "execution_count": 2,
      "outputs": []
    },
    {
      "cell_type": "code",
      "metadata": {
        "id": "0dU_rJs9h2lJ"
      },
      "source": [
        "def get_infected_nodes():\n",
        "    infected_nodes = [x for x,y in G.nodes(data=True) if y['state']==1]\n",
        "    return infected_nodes\n",
        "def get_recovered_nodes():\n",
        "    recovered_nodes = [x for x,y in G.nodes(data=True) if y['state']==2]\n",
        "    return recovered_nodes\n",
        "def get_susceptible_nodes():\n",
        "    susceptible_nodes = [x for x,y in G.nodes(data=True) if y['state']==0]\n",
        "    return susceptible_nodes"
      ],
      "execution_count": 3,
      "outputs": []
    },
    {
      "cell_type": "code",
      "metadata": {
        "id": "vT-Ak1Pvh2lJ"
      },
      "source": [
        "def print_stats():\n",
        "    r0 = round(((alpha*avg_deg)/mu), 2)\n",
        "    print(\"R0: \", r0)\n",
        "    print(\"Peak cases: \", max(epi_curve_data))\n",
        "    print(\"Peak time period: \", epi_curve_data.index(max(epi_curve_data)))\n",
        "    print(\"Total time periods: \", num_periods)        \n",
        "    print(\"Average contacts: \", round(avg_deg, 0))\n",
        "    print(\"Healthy left: \", len(get_susceptible_nodes()))"
      ],
      "execution_count": 26,
      "outputs": []
    },
    {
      "cell_type": "code",
      "metadata": {
        "scrolled": true,
        "id": "G3cQyjpCh2lK"
      },
      "source": [
        "def spread_virus():\n",
        "    infected_nodes_list = get_infected_nodes()\n",
        "    t = 0\n",
        "    infected_num_list = []\n",
        "    recovered_num_list = []\n",
        "    susceptible_num_list = []\n",
        "    while(len(infected_nodes_list)>0):\n",
        "        t=t+1\n",
        "        infected_nodes_list = get_infected_nodes()\n",
        "        num_infected = len(infected_nodes_list)\n",
        "        recovered_nodes_list = get_recovered_nodes()\n",
        "        num_recovered = len(recovered_nodes_list)\n",
        "        susceptible_nodes_list = get_susceptible_nodes()\n",
        "        num_susceptible = len(susceptible_nodes_list)        \n",
        "        infected_num_list.append(num_infected)\n",
        "        recovered_num_list.append(num_recovered)\n",
        "        susceptible_num_list.append(num_susceptible)\n",
        "        for i in infected_nodes_list:\n",
        "            neibs = list(G.neighbors(i))\n",
        "            #print(\"node: \"+str(i))\n",
        "            for j in neibs:\n",
        "                #print(j)\n",
        "                if (G.nodes[j]['state']==0):\n",
        "                    #print(j)\n",
        "                    if (np.random.binomial(1,alpha) == 1):\n",
        "                        #print(\"neib: \"+str(j))\n",
        "                        G.nodes[j]['state']=1\n",
        "                        #print(\"state: \"+ str(G.nodes[j]['state']))\n",
        "            if (np.random.binomial(1,mu) == 1):\n",
        "                G.nodes[i]['state']=2\n",
        "        infected_nodes_list = get_infected_nodes()\n",
        "        #print(infected_nodes_list)\n",
        "    return t, infected_num_list, recovered_num_list, susceptible_num_list"
      ],
      "execution_count": 5,
      "outputs": []
    },
    {
      "cell_type": "code",
      "metadata": {
        "id": "yDo8fBOoh2lL"
      },
      "source": [
        "def init_conditions():\n",
        "    state = 0\n",
        "    nx.set_node_attributes(G, state, \"state\")\n",
        "    G.nodes[6]['state'] = 1\n",
        "    G.nodes[3]['state'] = 1\n",
        "    G.nodes[2]['state'] = 1"
      ],
      "execution_count": 6,
      "outputs": []
    },
    {
      "cell_type": "code",
      "metadata": {
        "id": "rGphr5MRfOfH"
      },
      "source": [
        "def generate_epidemic_graph():\n",
        "  fig = plt.figure(figsize=(16, 9))\n",
        "  ax = plt.axes()\n",
        "  #ax.set_yscale('log')\n",
        "  plt.stackplot(x,epi_curve_data, sup_curve_data, rec_curve_data, labels=['Sick','Healthy','Recovered'], colors=['BB641D','AAC6CA','BC8AC0'])\n",
        "  ax.set(xlabel='Time', ylabel='Number of Individuals')\n",
        "  if(Super_spreaders==False):\n",
        "    fig.suptitle('Infectiousness = '+str(infectiousness) + ' Recovery Speed = '+str(recovery_speed) + ' Connectivity = '+str(connectivity) , fontsize=20)\n",
        "  else:\n",
        "    fig.suptitle('Infectiousness = '+str(infectiousness) + ' Recovery Speed = '+str(recovery_speed) + ' Connectivity = '+str(connectivity) + ' Super Spreader', fontsize=20)\n",
        "  plt.legend()"
      ],
      "execution_count": 150,
      "outputs": []
    },
    {
      "cell_type": "code",
      "metadata": {
        "id": "x40DoBBCh2lM"
      },
      "source": [
        "G = nx.Graph()\n",
        "G.clear()\n",
        "n =10000\n",
        "p =.001\n",
        "G = nx.erdos_renyi_graph(n, p)"
      ],
      "execution_count": 151,
      "outputs": []
    },
    {
      "cell_type": "code",
      "metadata": {
        "id": "v5xRqokAh2lM"
      },
      "source": [
        "mu = .9\n",
        "alpha = .2"
      ],
      "execution_count": 152,
      "outputs": []
    },
    {
      "cell_type": "code",
      "metadata": {
        "id": "klZB6H6wdv05"
      },
      "source": [
        ""
      ],
      "execution_count": 152,
      "outputs": []
    },
    {
      "cell_type": "code",
      "metadata": {
        "id": "gkqSeEkCdwB_"
      },
      "source": [
        ""
      ],
      "execution_count": 152,
      "outputs": []
    },
    {
      "cell_type": "code",
      "metadata": {
        "id": "jMUR_26lh2lR",
        "cellView": "form"
      },
      "source": [
        "infectiousness = 0.2 #@param {type:\"slider\", min:0.1, max:0.6, step:0.1}\n"
      ],
      "execution_count": 236,
      "outputs": []
    },
    {
      "cell_type": "code",
      "metadata": {
        "id": "H41EB6nS_p1u",
        "cellView": "form"
      },
      "source": [
        "recovery_speed = 0.9 #@param {type:\"slider\", min:0.1, max:0.9, step:0.1}"
      ],
      "execution_count": 237,
      "outputs": []
    },
    {
      "cell_type": "code",
      "metadata": {
        "cellView": "form",
        "id": "TEOKP2Sre5t8"
      },
      "source": [
        "Super_spreaders = True #@param [\"False\", \"True\"] {type:\"raw\"}"
      ],
      "execution_count": 238,
      "outputs": []
    },
    {
      "cell_type": "code",
      "metadata": {
        "cellView": "form",
        "id": "szITozifec7d"
      },
      "source": [
        "connectivity = 0.001 #@param {type:\"slider\", min:0.001, max:0.009, step:0.001}"
      ],
      "execution_count": 239,
      "outputs": []
    },
    {
      "cell_type": "code",
      "metadata": {
        "cellView": "form",
        "id": "9Yl9vCC7dCpp"
      },
      "source": [
        "super_spread_connectivity = 2 #@param {type:\"slider\", min:1, max:9, step:1}"
      ],
      "execution_count": 240,
      "outputs": []
    },
    {
      "cell_type": "code",
      "metadata": {
        "id": "sQ3Cz5glh9qi",
        "colab": {
          "base_uri": "https://localhost:8080/",
          "height": 616
        },
        "outputId": "95643c4b-d684-4e94-9036-dc26e1ad5579"
      },
      "source": [
        "  alpha = infectiousness\n",
        "  mu = recovery_speed\n",
        "  if(Super_spreaders==True):\n",
        "    m = super_spread_connectivity\n",
        "    G = nx.barabasi_albert_graph(n, m)\n",
        "  else:\n",
        "    if(p!=connectivity):\n",
        "      G = nx.erdos_renyi_graph(n, connectivity)\n",
        "      p = connectivity\n",
        "  init_conditions()\n",
        "  degrees = [val for (node, val) in G.degree()]\n",
        "  avg_deg = G.number_of_edges()/n\n",
        "  num_periods, epi_curve_data, rec_curve_data, sup_curve_data = spread_virus()\n",
        "  x = list(range(0, len(epi_curve_data)))\n",
        "generate_epidemic_graph()"
      ],
      "execution_count": 241,
      "outputs": [
        {
          "output_type": "display_data",
          "data": {
            "image/png": "[encoded data removed]",
            "text/plain": [
              "<Figure size 1152x648 with 1 Axes>"
            ]
          },
          "metadata": {
            "needs_background": "light"
          }
        }
      ]
    },
    {
      "cell_type": "code",
      "metadata": {
        "colab": {
          "base_uri": "https://localhost:8080/"
        },
        "id": "GE4I539SNwnE",
        "outputId": "dee9aedd-f002-467c-b554-6899225bc083"
      },
      "source": [
        "print_stats()"
      ],
      "execution_count": 242,
      "outputs": [
        {
          "output_type": "stream",
          "name": "stdout",
          "text": [
            "R0:  0.44\n",
            "Peak cases:  296\n",
            "Peak time period:  5\n",
            "Total time periods:  20\n",
            "Average contacts:  2.0\n",
            "Healthy left:  7691\n"
          ]
        }
      ]
    },
    {
      "cell_type": "code",
      "metadata": {
        "colab": {
          "base_uri": "https://localhost:8080/"
        },
        "id": "kYiZ1mC27saA",
        "outputId": "9497199b-86fe-4648-d167-42cf468b0449"
      },
      "source": [
        "epi_curve_data"
      ],
      "execution_count": 243,
      "outputs": [
        {
          "output_type": "execute_result",
          "data": {
            "text/plain": [
              "[3,\n",
              " 101,\n",
              " 142,\n",
              " 218,\n",
              " 260,\n",
              " 296,\n",
              " 289,\n",
              " 280,\n",
              " 264,\n",
              " 214,\n",
              " 121,\n",
              " 92,\n",
              " 96,\n",
              " 78,\n",
              " 48,\n",
              " 28,\n",
              " 19,\n",
              " 19,\n",
              " 5,\n",
              " 3]"
            ]
          },
          "metadata": {},
          "execution_count": 243
        }
      ]
    },
    {
      "cell_type": "code",
      "metadata": {
        "id": "w7OrwN4wAXwX",
        "colab": {
          "base_uri": "https://localhost:8080/"
        },
        "outputId": "2ba50207-62a6-4c20-a0ba-8d0f192f3e73"
      },
      "source": [
        "rec_curve_data"
      ],
      "execution_count": 244,
      "outputs": [
        {
          "output_type": "execute_result",
          "data": {
            "text/plain": [
              "[0,\n",
              " 3,\n",
              " 93,\n",
              " 219,\n",
              " 410,\n",
              " 638,\n",
              " 910,\n",
              " 1166,\n",
              " 1421,\n",
              " 1654,\n",
              " 1844,\n",
              " 1951,\n",
              " 2037,\n",
              " 2126,\n",
              " 2200,\n",
              " 2243,\n",
              " 2269,\n",
              " 2284,\n",
              " 2302,\n",
              " 2306]"
            ]
          },
          "metadata": {},
          "execution_count": 244
        }
      ]
    },
    {
      "cell_type": "code",
      "metadata": {
        "colab": {
          "base_uri": "https://localhost:8080/"
        },
        "id": "YCJwu-lMNyLn",
        "outputId": "0050ae6c-e172-454d-e948-eecc1cafe115"
      },
      "source": [
        "sup_curve_data"
      ],
      "execution_count": 245,
      "outputs": [
        {
          "output_type": "execute_result",
          "data": {
            "text/plain": [
              "[9997,\n",
              " 9896,\n",
              " 9765,\n",
              " 9563,\n",
              " 9330,\n",
              " 9066,\n",
              " 8801,\n",
              " 8554,\n",
              " 8315,\n",
              " 8132,\n",
              " 8035,\n",
              " 7957,\n",
              " 7867,\n",
              " 7796,\n",
              " 7752,\n",
              " 7729,\n",
              " 7712,\n",
              " 7697,\n",
              " 7693,\n",
              " 7691]"
            ]
          },
          "metadata": {},
          "execution_count": 245
        }
      ]
    },
    {
      "cell_type": "code",
      "metadata": {
        "id": "CxxOJi5NN1eR"
      },
      "source": [
        ""
      ],
      "execution_count": 245,
      "outputs": []
    }
  ]
}