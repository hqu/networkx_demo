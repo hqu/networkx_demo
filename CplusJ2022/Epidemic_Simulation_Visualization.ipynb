{
  "cells": [
    {
      "cell_type": "code",
      "execution_count": 703,
      "metadata": {
        "id": "3KkYhJ05h2lG"
      },
      "outputs": [],
      "source": [
        "import networkx as nx\n",
        "import numpy as np\n",
        "from matplotlib import pyplot as plt\n",
        "import pandas as pd"
      ]
    },
    {
      "cell_type": "code",
      "execution_count": 704,
      "metadata": {
        "id": "m0fCg32mNWUx"
      },
      "outputs": [],
      "source": [
        "G = nx.Graph()\n",
        "G.clear()"
      ]
    },
    {
      "cell_type": "code",
      "execution_count": 705,
      "metadata": {
        "id": "0dU_rJs9h2lJ"
      },
      "outputs": [],
      "source": [
        "def get_infected_nodes():\n",
        "    infected_nodes = [x for x,y in G.nodes(data=True) if y['state']==1]\n",
        "    return infected_nodes\n",
        "def get_recovered_nodes():\n",
        "    recovered_nodes = [x for x,y in G.nodes(data=True) if y['state']==2]\n",
        "    return recovered_nodes\n",
        "def get_susceptible_nodes():\n",
        "    susceptible_nodes = [x for x,y in G.nodes(data=True) if y['state']==0]\n",
        "    return susceptible_nodes"
      ]
    },
    {
      "cell_type": "code",
      "execution_count": 706,
      "metadata": {
        "id": "vT-Ak1Pvh2lJ"
      },
      "outputs": [],
      "source": [
        "def print_stats():\n",
        "    r0 = round(((alpha*avg_deg)/mu), 2)\n",
        "    print(\"R0: \", r0)\n",
        "    print(\"Peak cases: \", max(epi_curve_data))\n",
        "    print(\"Peak time period: \", epi_curve_data.index(max(epi_curve_data)))\n",
        "    print(\"Total time periods: \", num_periods)        \n",
        "    print(\"Average contacts: \", round(avg_deg, 0))\n",
        "    print(\"Healthy left: \", len(get_susceptible_nodes()))"
      ]
    },
    {
      "cell_type": "code",
      "execution_count": 707,
      "metadata": {
        "id": "G3cQyjpCh2lK",
        "scrolled": true
      },
      "outputs": [],
      "source": [
        "def spread_virus():\n",
        "    infected_nodes_list = get_infected_nodes()\n",
        "    t = 0\n",
        "    infected_num_list = []\n",
        "    recovered_num_list = []\n",
        "    susceptible_num_list = []\n",
        "    while(len(infected_nodes_list)>0):\n",
        "        t=t+1\n",
        "        infected_nodes_list = get_infected_nodes()\n",
        "        num_infected = len(infected_nodes_list)\n",
        "        recovered_nodes_list = get_recovered_nodes()\n",
        "        num_recovered = len(recovered_nodes_list)\n",
        "        susceptible_nodes_list = get_susceptible_nodes()\n",
        "        num_susceptible = len(susceptible_nodes_list)        \n",
        "        infected_num_list.append(num_infected)\n",
        "        recovered_num_list.append(num_recovered)\n",
        "        susceptible_num_list.append(num_susceptible)\n",
        "        for i in infected_nodes_list:\n",
        "            neibs = list(G.neighbors(i))\n",
        "            #print(\"node: \"+str(i))\n",
        "            for j in neibs:\n",
        "                #print(j)\n",
        "                if (G.nodes[j]['state']==0):\n",
        "                    #print(j)\n",
        "                    if (np.random.random() <= alpha):\n",
        "                        #print(\"neib: \"+str(j))\n",
        "                        G.nodes[j]['state']=1\n",
        "                        #print(\"state: \"+ str(G.nodes[j]['state']))\n",
        "            if (np.random.random() <= mu):\n",
        "                G.nodes[i]['state']=2\n",
        "        infected_nodes_list = get_infected_nodes()\n",
        "        #print(infected_nodes_list)\n",
        "    return t, infected_num_list, recovered_num_list, susceptible_num_list"
      ]
    },
    {
      "cell_type": "code",
      "execution_count": 708,
      "metadata": {
        "id": "yDo8fBOoh2lL"
      },
      "outputs": [],
      "source": [
        "def init_conditions():\n",
        "    state = 0\n",
        "    nx.set_node_attributes(G, state, \"state\")\n",
        "    G.nodes[6]['state'] = 1\n",
        "    #G.nodes[3]['state'] = 1\n",
        "    #.nodes[2]['state'] = 1"
      ]
    },
    {
      "cell_type": "code",
      "execution_count": 709,
      "metadata": {
        "id": "rGphr5MRfOfH"
      },
      "outputs": [],
      "source": [
        "def generate_epidemic_graph():\n",
        "  fig = plt.figure(figsize=(15, 6))\n",
        "  ax = plt.axes()\n",
        "  plt.xlabel('xlabel', fontsize=16)\n",
        "  plt.ylabel('ylabel', fontsize=16)\n",
        "  #ax.set_yscale('log')\n",
        "  plt.stackplot(x,epi_curve_data, sup_curve_data, rec_curve_data, labels=['Infected','Suspectible','Recovered'], colors=['BB641D','AAC6CA','BC8AC0'])\n",
        "  ax.set(xlabel='Time', ylabel='Number of People')\n",
        "  if(Super_spreaders==False):\n",
        "    fig.suptitle('infectiousness = '+str(infectiousness) + ' recovery speed = '+str(recovery_speed) + ' connectivity (ER model) = '+str(connectivity) , fontsize=20)\n",
        "  else:\n",
        "    fig.suptitle('infectiousness = '+str(infectiousness) + ' recovery = '+str(recovery_speed) + ' super_spread_connectivity = '+str(super_spread_connectivity), fontsize=20)\n",
        "  plt.legend()"
      ]
    },
    {
      "cell_type": "code",
      "execution_count": 710,
      "metadata": {
        "id": "x40DoBBCh2lM"
      },
      "outputs": [],
      "source": [
        "G = nx.Graph()\n",
        "G.clear()\n",
        "number_people =1000\n",
        "p =.01\n",
        "G = nx.erdos_renyi_graph(number_people, p)"
      ]
    },
    {
      "cell_type": "code",
      "execution_count": 711,
      "metadata": {
        "id": "v5xRqokAh2lM"
      },
      "outputs": [],
      "source": [
        "mu = .1\n",
        "alpha = .2"
      ]
    },
    {
      "cell_type": "code",
      "execution_count": 712,
      "metadata": {
        "id": "gkqSeEkCdwB_"
      },
      "outputs": [],
      "source": [
        "# Enter values for the follow parameters"
      ]
    },
    {
      "cell_type": "markdown",
      "metadata": {
        "id": "OVknnXoNh98i"
      },
      "source": [
        "# **Enter values for the follow parameters in the form below:**\n",
        "\n",
        "---\n",
        "\n"
      ]
    },
    {
      "cell_type": "code",
      "execution_count": 713,
      "metadata": {
        "id": "-1opqILuwSxu"
      },
      "outputs": [],
      "source": [
        "infectiousness = 0.2 #@param {type:\"slider\", min:0.1, max:0.9, step:0.1}"
      ]
    },
    {
      "cell_type": "code",
      "execution_count": 713,
      "metadata": {
        "id": "oWWZEDP4XL5w"
      },
      "outputs": [],
      "source": [
        ""
      ]
    },
    {
      "cell_type": "code",
      "execution_count": 714,
      "metadata": {
        "id": "jMUR_26lh2lR"
      },
      "outputs": [],
      "source": [
        "recovery_speed = 0.6 #@param {type:\"slider\", min:0.1, max:0.9, step:0.1}\n"
      ]
    },
    {
      "cell_type": "code",
      "execution_count": 715,
      "metadata": {
        "id": "H41EB6nS_p1u"
      },
      "outputs": [],
      "source": [
        "Super_spreaders = True #@param [\"False\", \"True\"] {type:\"raw\"}"
      ]
    },
    {
      "cell_type": "code",
      "execution_count": 716,
      "metadata": {
        "id": "JeloNwwLWxBI"
      },
      "outputs": [],
      "source": [
        "connectivity = 0.001 #@param {type:\"slider\", min:0.001, max:0.009, step:0.001}\n"
      ]
    },
    {
      "cell_type": "code",
      "execution_count": 717,
      "metadata": {
        "id": "9Yl9vCC7dCpp"
      },
      "outputs": [],
      "source": [
        "super_spread_connectivity = 7 #@param {type:\"slider\", min:5, max:10, step:1}"
      ]
    },
    {
      "cell_type": "code",
      "execution_count": 718,
      "metadata": {
        "colab": {
          "base_uri": "https://localhost:8080/",
          "height": 436
        },
        "id": "sQ3Cz5glh9qi",
        "outputId": "8f25d993-bbd8-465d-cced-ecbd7fee69e9"
      },
      "outputs": [
        {
          "output_type": "display_data",
          "data": {
            "text/plain": [
              "<Figure size 1080x432 with 1 Axes>"
            ],
            "image/png": "[encoded data removed]"
          },
          "metadata": {
            "needs_background": "light"
          }
        }
      ],
      "source": [
        "alpha = infectiousness\n",
        "mu = recovery_speed\n",
        "#Super_spreaders=True\n",
        "connectivity=p\n",
        "if(Super_spreaders==True):\n",
        "  m = super_spread_connectivity\n",
        "  G = nx.barabasi_albert_graph(number_people, m)\n",
        "else:\n",
        "  if(p!=connectivity):\n",
        "    G = nx.erdos_renyi_graph(number_people, connectivity)\n",
        "    p = connectivity\n",
        "init_conditions()\n",
        "degrees = [val for (node, val) in G.degree()]\n",
        "avg_deg = G.number_of_edges()/number_people\n",
        "num_periods, epi_curve_data, rec_curve_data, sup_curve_data = spread_virus()\n",
        "x = list(range(0, len(epi_curve_data)))\n",
        "generate_epidemic_graph()"
      ]
    },
    {
      "cell_type": "code",
      "execution_count": 719,
      "metadata": {
        "colab": {
          "base_uri": "https://localhost:8080/"
        },
        "id": "GE4I539SNwnE",
        "outputId": "dfb2297c-701c-44ab-f4a2-673d90eddbd4"
      },
      "outputs": [
        {
          "output_type": "stream",
          "name": "stdout",
          "text": [
            "R0:  2.32\n",
            "Peak cases:  455\n",
            "Peak time period:  4\n",
            "Total time periods:  16\n",
            "Average contacts:  7.0\n",
            "Healthy left:  54\n"
          ]
        }
      ],
      "source": [
        "print_stats()"
      ]
    },
    {
      "cell_type": "code",
      "execution_count": 720,
      "metadata": {
        "id": "OObF0QaOQ8rQ"
      },
      "outputs": [],
      "source": [
        "#plt.figure(figsize=(12, 10))\n",
        "#nx.draw(G, edge_color=\"#999999\", node_size=500, node_color='#E2E2E2', with_labels = True)\n",
        "#plt.title('Network Graph', size=18)\n",
        "#plt.show()"
      ]
    },
    {
      "cell_type": "code",
      "execution_count": 721,
      "metadata": {
        "id": "kYiZ1mC27saA"
      },
      "outputs": [],
      "source": [
        "#epi_curve_data"
      ]
    },
    {
      "cell_type": "code",
      "execution_count": 722,
      "metadata": {
        "id": "w7OrwN4wAXwX"
      },
      "outputs": [],
      "source": [
        "#rec_curve_data"
      ]
    },
    {
      "cell_type": "code",
      "execution_count": 723,
      "metadata": {
        "id": "YCJwu-lMNyLn"
      },
      "outputs": [],
      "source": [
        "#sup_curve_data"
      ]
    },
    {
      "cell_type": "code",
      "execution_count": 724,
      "metadata": {
        "id": "ymGujQGhuBlc"
      },
      "outputs": [],
      "source": [
        "#Super_spreaders = True #@param [\"False\", \"True\"] {type:\"raw\"}"
      ]
    },
    {
      "cell_type": "code",
      "execution_count": 725,
      "metadata": {
        "id": "nEXHlodyzCZg"
      },
      "outputs": [],
      "source": [
        "#connectivity = 0.001 #@param {type:\"slider\", min:0.001, max:0.009, step:0.001}"
      ]
    }
  ],
  "metadata": {
    "colab": {
      "collapsed_sections": [],
      "name": "Epidemic Simulation Visualization",
      "provenance": []
    },
    "kernelspec": {
      "display_name": "Python 3 (ipykernel)",
      "language": "python",
      "name": "python3"
    },
    "language_info": {
      "codemirror_mode": {
        "name": "ipython",
        "version": 3
      },
      "file_extension": ".py",
      "mimetype": "text/x-python",
      "name": "python",
      "nbconvert_exporter": "python",
      "pygments_lexer": "ipython3",
      "version": "3.8.8"
    }
  },
  "nbformat": 4,
  "nbformat_minor": 0
}